{
  "nbformat": 4,
  "nbformat_minor": 0,
  "metadata": {
    "colab": {
      "name": "Intro_to_notebooks_and_python.ipynb",
      "version": "0.3.2",
      "provenance": [],
      "collapsed_sections": [],
      "include_colab_link": true
    },
    "kernelspec": {
      "name": "python3",
      "display_name": "Python 3"
    }
  },
  "cells": [
    {
      "cell_type": "markdown",
      "metadata": {
        "id": "view-in-github",
        "colab_type": "text"
      },
      "source": [
        "[View in Colaboratory](https://colab.research.google.com/github/dinesh-kumar-11/AlgoWiki/blob/gh-pages/Intro_to_notebooks_and_python.ipynb)"
      ]
    },
    {
      "metadata": {
        "id": "uSFXCCxty9Uf",
        "colab_type": "text"
      },
      "cell_type": "markdown",
      "source": [
        "# A Brief Introduction to Colaboratory Notebooks, and Python\n",
        "## Miles Porter 10 Oct, 2018\n",
        "\n",
        "-------------------------------\n",
        "Before you get started, please go to the file menu above, and select \"Save a copy in drive...\".  This will make a copy of this notebook in your personal google drive folder.  That way, your edits will not affect the main version of this notebook.\n",
        "-------------------------------\n",
        "\n",
        "# Preface...\n",
        "\n",
        "The purpose of this notebook is to introduce some very basic concepts related to Colaboratory (Jupyter) Notebooks  and the Python programming language.  This is not meant as a complete introductory course, but rather to help people get started using the Colaboratory/Jupyter environment and Python.\n",
        "\n",
        "\n",
        "---\n",
        "\n",
        "\n",
        "\n",
        "*Colaboratory is a programming environment provided by Google.  It is a \"free\" environment, and provides integration to Google Drive and Github, as well as access to advanced computing hardware (GPUs) in Google's cloud environment.  Throughout this document the terms Notebook can be applied to those hosted in Colaboratory or on a Jupyter notebook server.  See the links at the end of this tutorial to get more information about both of these tools.*\n",
        "\n",
        "\n",
        "---\n",
        "\n",
        "\n",
        "\n",
        "If you have feedback regarding this notebook, please feel free to let me know by sending an email message to [miles_porter@trimble.com](mailto:miles_porter@trimble.com).</a>\n",
        "\n",
        "Thanks, and I hope you enjoy this notebook.\n"
      ]
    },
    {
      "metadata": {
        "id": "JWKOWsOdOS-w",
        "colab_type": "text"
      },
      "cell_type": "markdown",
      "source": [
        "# Welcome!"
      ]
    },
    {
      "metadata": {
        "id": "Uq_gd65R1Ius",
        "colab_type": "text"
      },
      "cell_type": "markdown",
      "source": [
        "# Part 1.  Colaboratory (Jupyter) Notebook Basics\n",
        "\n",
        "## A little history...\n",
        "\n",
        "Since 2001, Python has included an interactive interpreter called iPython.  In 2014, the Jupyter project was \"spun-off\" from iPython as its own project.  Jupyter is a web based development environment that is typically used for Python coding, but is actually language agnostic.  It provides an excellent way to learn to write code in Python.  Colaboratory is a cloud based Jupyter notebook system provided by Google.  Colaboratory is *free* In the same sense that Gmail and Drive and Google Docs are *free*.  For more information on Colaboratory, please refer [to the FAQ](https://research.google.com/colaboratory/faq.html).\n",
        "\n",
        "## So what are \"Notebooks\"?\n",
        "\n",
        "You're looking at one now!  A \"notebook\" can be thought of as part word processor and part software development environment.  Notebooks are accessed as web pages (like the one your are on now).  These pages are made up of a single column of \"cells\".  Each cell can contain either text (think word processor) or code.  The text that you are reading now is a text cell.  Text cells are formatted with the [markdown](https://daringfireball.net/projects/markdown/syntax) formatting language.\n",
        "\n",
        "In collaboratory, you can either view a text cell as formatted text, or in edit mode, where you have the ability to edit the markdown on the left side of the cell, and view the results in a preview frame on the right side of the cell.  To enter edit mode, simply double-click on a text cell.  To leave edit mode, simply click outside the cell.  To add a cell to a notebook, you can use the \"Insert\" menu item above.\n",
        "\n",
        "The notebook itself is stored in a .ipynb file.  In Colaboratory, these files are saved in Google drive by default, but can also be stored in Github.  In a Jupyter notebook running on a personal computer, the .ipynb files are stored directly on the hard drive.  "
      ]
    },
    {
      "metadata": {
        "id": "CgvpW_p93OGQ",
        "colab_type": "code",
        "colab": {}
      },
      "cell_type": "code",
      "source": [
        "## This is a code cell!  Note the little play button to the right.  (If you\n",
        "## don't see a play button to the right, click on this orange text now.)  \n",
        "## If you click on that button, the code in this cell will be executed.\n",
        "## Go ahead and give this a try right now.\n",
        "print(\"Hello world!\")"
      ],
      "execution_count": 0,
      "outputs": []
    },
    {
      "metadata": {
        "id": "-7jrRuf43eUx",
        "colab_type": "text"
      },
      "cell_type": "markdown",
      "source": [
        "The Colaboratory/Jupyter system has some important advantages over traditional IDE environments or working on a command line.  Some of those advantages include, but are not limited to...\n",
        "\n",
        "1.  the ability to clearly document what code is doing using formatting options not available in code comments.\n",
        "2.  a streamlined process (as is none!) for setting up a Python development environment.\n",
        "3.  an excellent platform for collaboration.\n",
        "4.  a great mechanism for organizing code and comments and making things repeatable.\n"
      ]
    },
    {
      "metadata": {
        "id": "zMqfWR3V4sLI",
        "colab_type": "text"
      },
      "cell_type": "markdown",
      "source": [
        "## So what is Python?\n",
        "\n",
        "Python is a computer programming language that has been around [since the late 1980's](https://en.wikipedia.org/wiki/History_of_Python).  It is a high level interpreted language general purpose programming language.  While it's uses are really unlimited, it has seen wide adoption in DevOps, Data Analytics, and Machine Learning.  It is also an excellent language to learn to program in becuase of it's general readability.  If you have programmed in other languages like C, Java or Basic, much of python will make sense.  There are, however, a few things that you will need to be aware of before you get too far into the language.\n",
        "\n",
        "### A few comments about versions, etc.  \n",
        "\n",
        "As you can imagine, Python has changed since it was first introduced in the late 1980's.  At the time that this page was created, the most recent version of Python stands at 3.7, which was released in June of 2018.  For a complete list of versions, you can refer [to this page](https://www.python.org/doc/versions/) of the official Python documentation.\n",
        "\n",
        "Python has been adopted as a central part to many operating systems.  This is particularly true of Linux and OSx (Mac).  If you are using one of these environments, you need to be careful when using Python because changing or modifying the Python environment that is part of your OS can have some pretty undesirable side effects... and can potentially lead to [this](https://xkcd.com/349/). \n",
        "\n",
        "### Virtual environments to the rescue!  Conda and Anaconda...\n",
        "\n",
        "You can think of a virtual programming environment as a safe \"sandbox\" where you can develop your Python code and install modules without worrying about messing up the Python version that your computer's operating system may depend on.  Virtual programming environments are not the same thing as virtual machines, which are a complete software stack running in isolation.  Rather, virtual programming environments are more like swappable programming environments.  I strongly suggest that if you are developing in Python on your computer that you check out [The Conda Project](https://conda.io/docs/index.html).  If you have questions, please feel free to reach out to me for help.\n",
        "\n",
        "Using Notebooks are not the only way to go about learning or working with Python.  If you choose to go a different route, virtual environments are a critical tool.\n",
        "\n",
        "If you choose to use Colaboratory, you don't have to worry about virtual environments, or even install python.  The colaboratory environment will take care of all of that for you!\n",
        "\n",
        "Much of Python is pretty intuitive.  For example, see if you can guess what the following cells will do before you run them:\n",
        "\n",
        "**NOTE:  To run the cells, click once on the code.  A small cirlce with a triangle in it will appear to the left.  To run the cell, click on the triangle...  or press ctrl+enter.**\n",
        "\n"
      ]
    },
    {
      "metadata": {
        "id": "mMN3pwWY97hc",
        "colab_type": "code",
        "colab": {}
      },
      "cell_type": "code",
      "source": [
        "# Cell 1.  This appears to do nothing...  why might that be important.  \n",
        "# Do you necessarily want EVERY line of your code to do something?"
      ],
      "execution_count": 0,
      "outputs": []
    },
    {
      "metadata": {
        "id": "mT0y0Z10-IwS",
        "colab_type": "code",
        "colab": {}
      },
      "cell_type": "code",
      "source": [
        "# Cell 2.\n",
        "2+2"
      ],
      "execution_count": 0,
      "outputs": []
    },
    {
      "metadata": {
        "id": "nNFZnpOt-MgS",
        "colab_type": "code",
        "colab": {}
      },
      "cell_type": "code",
      "source": [
        "print(\"Hello world!\")"
      ],
      "execution_count": 0,
      "outputs": []
    },
    {
      "metadata": {
        "id": "QQKtwZ0v-P3Y",
        "colab_type": "code",
        "colab": {}
      },
      "cell_type": "code",
      "source": [
        "2+2\n",
        "print(\"Hello world!\")"
      ],
      "execution_count": 0,
      "outputs": []
    },
    {
      "metadata": {
        "id": "gcMF1nNw-TCB",
        "colab_type": "code",
        "colab": {}
      },
      "cell_type": "code",
      "source": [
        "x = 5\n",
        "y = 3\n",
        "x + y"
      ],
      "execution_count": 0,
      "outputs": []
    },
    {
      "metadata": {
        "id": "0H3-dDqK-W6a",
        "colab_type": "code",
        "colab": {}
      },
      "cell_type": "code",
      "source": [
        "x = \"Miles\"\n",
        "y = \"is\"\n",
        "z = \"cool\"\n",
        "my_list = [x,y,z]\n",
        "\n",
        "print(\" \".join(my_list))"
      ],
      "execution_count": 0,
      "outputs": []
    },
    {
      "metadata": {
        "id": "ah1SsrYD-s2G",
        "colab_type": "code",
        "colab": {}
      },
      "cell_type": "code",
      "source": [
        "# Tantalizing tidbit of python goodness!\n",
        "\n",
        "import numpy as np\n",
        "\n",
        "data = [0.3525006309018437, 0.6225859968077185, 0.975036703455587, \n",
        "        0.13280091284860573, 0.3374890459865221, 0.7394954481661561, \n",
        "        0.1582269414547326, 0.97527440870354, 0.7624657603459529, \n",
        "        0.715822600641095]\n",
        "\n",
        "print(\"The standard deviation from my list is... {}\".format(np.std(data)))"
      ],
      "execution_count": 0,
      "outputs": []
    },
    {
      "metadata": {
        "id": "uUChFqpR_2Uq",
        "colab_type": "text"
      },
      "cell_type": "markdown",
      "source": [
        "## Hopefully that last code cell will help you appreciate this XKCD cartoon...\n",
        "\n",
        "![alt text](https://imgs.xkcd.com/comics/python.png)"
      ]
    },
    {
      "metadata": {
        "id": "kkvLV-3r976t",
        "colab_type": "text"
      },
      "cell_type": "markdown",
      "source": [
        "### White space is your friend.\n",
        "\n",
        "Have you ever looked at a line of professional computer code or a computer script that had no white space?  I am guessing probably not.  The reason is simple.  Anyone that has written more than a few programs (or had to deal with programs written by others) learns quickly that making the program readable and understandable is just as important as making it work.  \n",
        "\n",
        "Python leverages this fact by requiring certain white space features.  For example, consider this code:\n",
        "\n",
        "**Before you run this code, see if you can guess what it does!**"
      ]
    },
    {
      "metadata": {
        "id": "wBMFRvsQ6_ID",
        "colab_type": "code",
        "colab": {}
      },
      "cell_type": "code",
      "source": [
        "def say_hello(person):\n",
        "    print(\"Hello \" + person + \"!\")\n",
        "    \n",
        "say_hello(\"Miles\")"
      ],
      "execution_count": 0,
      "outputs": []
    },
    {
      "metadata": {
        "id": "tUvtHj-_7UYp",
        "colab_type": "text"
      },
      "cell_type": "markdown",
      "source": [
        "Did you guess correctly?  The important thing that I wanted to point out here is that the line that includes the \"    print(...\" is indented 4 spaces.  That is required for the Python interpreter to understand that line of code belongs to the definition of function say_hello.  Don't get too hung up on functions right now.  Just keep in mind that python looks at spaces in a different way from Java or C or Basic.  At first, many people don't like this aspect of the language.  However, it can be very beneficial.  To see how, consider this little bit of code...\n"
      ]
    },
    {
      "metadata": {
        "id": "ZyDX6iuh8HUi",
        "colab_type": "code",
        "colab": {}
      },
      "cell_type": "code",
      "source": [
        "def busy_busy(x):\n",
        "    \n",
        "    for i in range(0,x):\n",
        "        print(\"I'm gonna count to {}\".format(x))\n",
        "        \n",
        "        for j in range(0,i):\n",
        "            print(\"I'm gonna count to {}\".format(j))\n",
        "            \n",
        "            for k in range(0,j):\n",
        "                print(\"I'm gonna count to {}\".format(k))\n",
        "                \n",
        "busy_busy(3)\n",
        "            "
      ],
      "execution_count": 0,
      "outputs": []
    },
    {
      "metadata": {
        "id": "-gOXUbVs8_WK",
        "colab_type": "text"
      },
      "cell_type": "markdown",
      "source": [
        "If you could guess what that code was going to do, you are doing great!  (Note:  For the curious, the range function in python returns a range of numbers starting with the first argument and going up to, but not including the last argument.)\n",
        "\n",
        "Again, don't get hung up on the details here.  The important point is that the tabs in the code segment above are absolutely necessary."
      ]
    },
    {
      "metadata": {
        "id": "1IqixzVhBVO2",
        "colab_type": "text"
      },
      "cell_type": "markdown",
      "source": [
        "# Summary.\n",
        "\n",
        "Hopefully, you have found this extremely short overview of Notebooks, and Python interesting.\n",
        "\n",
        "To continue to learn more about python, please check out the ThinkPython book below.  For Trimble people, please feel free to reach out to me if you'd like to be included in the Python Boot Camp that is being *sponsored* by the Trimble Python Users Group.  If you want more information on that group, please reach out to me as well.\n",
        "\n",
        "Please refer to the following links for more information:\n",
        "\n",
        "- [Google Colaborator Documentation](https://colab.research.google.com/notebooks/welcome.ipynb)\n",
        "- [ThinkPython Book](http://greenteapress.com/thinkpython2/html/index.html)\n",
        "- [The Python Koans](https://github.com/gregmalcolm/python_koans)\n",
        "- [Jupyter Notebooks](http://jupyter.org/)"
      ]
    }
  ]
}